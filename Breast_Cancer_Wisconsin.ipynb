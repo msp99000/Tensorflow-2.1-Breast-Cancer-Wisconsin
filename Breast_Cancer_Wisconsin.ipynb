{
  "nbformat": 4,
  "nbformat_minor": 0,
  "metadata": {
    "colab": {
      "name": "Breast_Cancer_Wisconsin",
      "provenance": [],
      "collapsed_sections": []
    },
    "kernelspec": {
      "name": "python3",
      "display_name": "Python 3"
    },
    "accelerator": "TPU"
  },
  "cells": [
    {
      "cell_type": "markdown",
      "metadata": {
        "id": "OX-S4hzKYF09",
        "colab_type": "text"
      },
      "source": [
        "# Importing Libraries\n",
        "* Tensorflow\n",
        "* Keras\n",
        "* Sci-Kit Learn\n",
        "* MLXtend\n",
        "* Pandas\n",
        "* Numpy\n",
        "* Matplotlib"
      ]
    },
    {
      "cell_type": "code",
      "metadata": {
        "id": "QhNkYVy_X9km",
        "colab_type": "code",
        "colab": {}
      },
      "source": [
        "import tensorflow as tf\n",
        "from tensorflow import keras\n",
        "from tensorflow.keras import Sequential\n",
        "from tensorflow.keras.layers import Conv1D, MaxPool1D, BatchNormalization, Dropout, Dense, Flatten\n",
        "from tensorflow.keras.optimizers import Adam\n",
        "\n",
        "from sklearn import datasets\n",
        "from sklearn.model_selection import train_test_split\n",
        "from sklearn.preprocessing import StandardScaler\n",
        "from sklearn.metrics import confusion_matrix\n",
        "from mlxtend.plotting import plot_confusion_matrix\n",
        "\n",
        "import pandas as pd\n",
        "import numpy as np\n",
        "import matplotlib.pyplot as plt"
      ],
      "execution_count": 0,
      "outputs": []
    },
    {
      "cell_type": "markdown",
      "metadata": {
        "id": "EVrsFObkZka8",
        "colab_type": "text"
      },
      "source": [
        "# Data Modelling\n",
        "* Loading Data from Source: Sci-Kit Learn Datasets\n",
        "* Data Preprocessing\n",
        "  * Data Cleaning\n",
        "  * Normalization/Standardization\n"
      ]
    },
    {
      "cell_type": "code",
      "metadata": {
        "id": "s0uc31mDYw98",
        "colab_type": "code",
        "colab": {}
      },
      "source": [
        "# Loading data from source\n",
        "\n",
        "cancer = datasets.load_breast_cancer()"
      ],
      "execution_count": 0,
      "outputs": []
    },
    {
      "cell_type": "code",
      "metadata": {
        "id": "d1Rh5W4Shdpj",
        "colab_type": "code",
        "outputId": "d9f6372a-12df-46c6-c102-d03777514cac",
        "colab": {
          "base_uri": "https://localhost:8080/",
          "height": 1000
        }
      },
      "source": [
        "print(cancer.DESCR)"
      ],
      "execution_count": 0,
      "outputs": [
        {
          "output_type": "stream",
          "text": [
            ".. _breast_cancer_dataset:\n",
            "\n",
            "Breast cancer wisconsin (diagnostic) dataset\n",
            "--------------------------------------------\n",
            "\n",
            "**Data Set Characteristics:**\n",
            "\n",
            "    :Number of Instances: 569\n",
            "\n",
            "    :Number of Attributes: 30 numeric, predictive attributes and the class\n",
            "\n",
            "    :Attribute Information:\n",
            "        - radius (mean of distances from center to points on the perimeter)\n",
            "        - texture (standard deviation of gray-scale values)\n",
            "        - perimeter\n",
            "        - area\n",
            "        - smoothness (local variation in radius lengths)\n",
            "        - compactness (perimeter^2 / area - 1.0)\n",
            "        - concavity (severity of concave portions of the contour)\n",
            "        - concave points (number of concave portions of the contour)\n",
            "        - symmetry \n",
            "        - fractal dimension (\"coastline approximation\" - 1)\n",
            "\n",
            "        The mean, standard error, and \"worst\" or largest (mean of the three\n",
            "        largest values) of these features were computed for each image,\n",
            "        resulting in 30 features.  For instance, field 3 is Mean Radius, field\n",
            "        13 is Radius SE, field 23 is Worst Radius.\n",
            "\n",
            "        - class:\n",
            "                - WDBC-Malignant\n",
            "                - WDBC-Benign\n",
            "\n",
            "    :Summary Statistics:\n",
            "\n",
            "    ===================================== ====== ======\n",
            "                                           Min    Max\n",
            "    ===================================== ====== ======\n",
            "    radius (mean):                        6.981  28.11\n",
            "    texture (mean):                       9.71   39.28\n",
            "    perimeter (mean):                     43.79  188.5\n",
            "    area (mean):                          143.5  2501.0\n",
            "    smoothness (mean):                    0.053  0.163\n",
            "    compactness (mean):                   0.019  0.345\n",
            "    concavity (mean):                     0.0    0.427\n",
            "    concave points (mean):                0.0    0.201\n",
            "    symmetry (mean):                      0.106  0.304\n",
            "    fractal dimension (mean):             0.05   0.097\n",
            "    radius (standard error):              0.112  2.873\n",
            "    texture (standard error):             0.36   4.885\n",
            "    perimeter (standard error):           0.757  21.98\n",
            "    area (standard error):                6.802  542.2\n",
            "    smoothness (standard error):          0.002  0.031\n",
            "    compactness (standard error):         0.002  0.135\n",
            "    concavity (standard error):           0.0    0.396\n",
            "    concave points (standard error):      0.0    0.053\n",
            "    symmetry (standard error):            0.008  0.079\n",
            "    fractal dimension (standard error):   0.001  0.03\n",
            "    radius (worst):                       7.93   36.04\n",
            "    texture (worst):                      12.02  49.54\n",
            "    perimeter (worst):                    50.41  251.2\n",
            "    area (worst):                         185.2  4254.0\n",
            "    smoothness (worst):                   0.071  0.223\n",
            "    compactness (worst):                  0.027  1.058\n",
            "    concavity (worst):                    0.0    1.252\n",
            "    concave points (worst):               0.0    0.291\n",
            "    symmetry (worst):                     0.156  0.664\n",
            "    fractal dimension (worst):            0.055  0.208\n",
            "    ===================================== ====== ======\n",
            "\n",
            "    :Missing Attribute Values: None\n",
            "\n",
            "    :Class Distribution: 212 - Malignant, 357 - Benign\n",
            "\n",
            "    :Creator:  Dr. William H. Wolberg, W. Nick Street, Olvi L. Mangasarian\n",
            "\n",
            "    :Donor: Nick Street\n",
            "\n",
            "    :Date: November, 1995\n",
            "\n",
            "This is a copy of UCI ML Breast Cancer Wisconsin (Diagnostic) datasets.\n",
            "https://goo.gl/U2Uwz2\n",
            "\n",
            "Features are computed from a digitized image of a fine needle\n",
            "aspirate (FNA) of a breast mass.  They describe\n",
            "characteristics of the cell nuclei present in the image.\n",
            "\n",
            "Separating plane described above was obtained using\n",
            "Multisurface Method-Tree (MSM-T) [K. P. Bennett, \"Decision Tree\n",
            "Construction Via Linear Programming.\" Proceedings of the 4th\n",
            "Midwest Artificial Intelligence and Cognitive Science Society,\n",
            "pp. 97-101, 1992], a classification method which uses linear\n",
            "programming to construct a decision tree.  Relevant features\n",
            "were selected using an exhaustive search in the space of 1-4\n",
            "features and 1-3 separating planes.\n",
            "\n",
            "The actual linear program used to obtain the separating plane\n",
            "in the 3-dimensional space is that described in:\n",
            "[K. P. Bennett and O. L. Mangasarian: \"Robust Linear\n",
            "Programming Discrimination of Two Linearly Inseparable Sets\",\n",
            "Optimization Methods and Software 1, 1992, 23-34].\n",
            "\n",
            "This database is also available through the UW CS ftp server:\n",
            "\n",
            "ftp ftp.cs.wisc.edu\n",
            "cd math-prog/cpo-dataset/machine-learn/WDBC/\n",
            "\n",
            ".. topic:: References\n",
            "\n",
            "   - W.N. Street, W.H. Wolberg and O.L. Mangasarian. Nuclear feature extraction \n",
            "     for breast tumor diagnosis. IS&T/SPIE 1993 International Symposium on \n",
            "     Electronic Imaging: Science and Technology, volume 1905, pages 861-870,\n",
            "     San Jose, CA, 1993.\n",
            "   - O.L. Mangasarian, W.N. Street and W.H. Wolberg. Breast cancer diagnosis and \n",
            "     prognosis via linear programming. Operations Research, 43(4), pages 570-577, \n",
            "     July-August 1995.\n",
            "   - W.H. Wolberg, W.N. Street, and O.L. Mangasarian. Machine learning techniques\n",
            "     to diagnose breast cancer from fine-needle aspirates. Cancer Letters 77 (1994) \n",
            "     163-171.\n"
          ],
          "name": "stdout"
        }
      ]
    },
    {
      "cell_type": "code",
      "metadata": {
        "id": "sgXJ8jnsaY75",
        "colab_type": "code",
        "colab": {}
      },
      "source": [
        "X = pd.DataFrame(data= cancer.data, columns=cancer.feature_names)"
      ],
      "execution_count": 0,
      "outputs": []
    },
    {
      "cell_type": "code",
      "metadata": {
        "id": "E6efiqI1anRQ",
        "colab_type": "code",
        "outputId": "fb48f10a-d6d7-4c1f-a57a-3c5f020e87c5",
        "colab": {
          "base_uri": "https://localhost:8080/",
          "height": 258
        }
      },
      "source": [
        "X.head()"
      ],
      "execution_count": 0,
      "outputs": [
        {
          "output_type": "execute_result",
          "data": {
            "text/html": [
              "<div>\n",
              "<style scoped>\n",
              "    .dataframe tbody tr th:only-of-type {\n",
              "        vertical-align: middle;\n",
              "    }\n",
              "\n",
              "    .dataframe tbody tr th {\n",
              "        vertical-align: top;\n",
              "    }\n",
              "\n",
              "    .dataframe thead th {\n",
              "        text-align: right;\n",
              "    }\n",
              "</style>\n",
              "<table border=\"1\" class=\"dataframe\">\n",
              "  <thead>\n",
              "    <tr style=\"text-align: right;\">\n",
              "      <th></th>\n",
              "      <th>mean radius</th>\n",
              "      <th>mean texture</th>\n",
              "      <th>mean perimeter</th>\n",
              "      <th>mean area</th>\n",
              "      <th>mean smoothness</th>\n",
              "      <th>mean compactness</th>\n",
              "      <th>mean concavity</th>\n",
              "      <th>mean concave points</th>\n",
              "      <th>mean symmetry</th>\n",
              "      <th>mean fractal dimension</th>\n",
              "      <th>radius error</th>\n",
              "      <th>texture error</th>\n",
              "      <th>perimeter error</th>\n",
              "      <th>area error</th>\n",
              "      <th>smoothness error</th>\n",
              "      <th>compactness error</th>\n",
              "      <th>concavity error</th>\n",
              "      <th>concave points error</th>\n",
              "      <th>symmetry error</th>\n",
              "      <th>fractal dimension error</th>\n",
              "      <th>worst radius</th>\n",
              "      <th>worst texture</th>\n",
              "      <th>worst perimeter</th>\n",
              "      <th>worst area</th>\n",
              "      <th>worst smoothness</th>\n",
              "      <th>worst compactness</th>\n",
              "      <th>worst concavity</th>\n",
              "      <th>worst concave points</th>\n",
              "      <th>worst symmetry</th>\n",
              "      <th>worst fractal dimension</th>\n",
              "    </tr>\n",
              "  </thead>\n",
              "  <tbody>\n",
              "    <tr>\n",
              "      <th>0</th>\n",
              "      <td>17.99</td>\n",
              "      <td>10.38</td>\n",
              "      <td>122.80</td>\n",
              "      <td>1001.0</td>\n",
              "      <td>0.11840</td>\n",
              "      <td>0.27760</td>\n",
              "      <td>0.3001</td>\n",
              "      <td>0.14710</td>\n",
              "      <td>0.2419</td>\n",
              "      <td>0.07871</td>\n",
              "      <td>1.0950</td>\n",
              "      <td>0.9053</td>\n",
              "      <td>8.589</td>\n",
              "      <td>153.40</td>\n",
              "      <td>0.006399</td>\n",
              "      <td>0.04904</td>\n",
              "      <td>0.05373</td>\n",
              "      <td>0.01587</td>\n",
              "      <td>0.03003</td>\n",
              "      <td>0.006193</td>\n",
              "      <td>25.38</td>\n",
              "      <td>17.33</td>\n",
              "      <td>184.60</td>\n",
              "      <td>2019.0</td>\n",
              "      <td>0.1622</td>\n",
              "      <td>0.6656</td>\n",
              "      <td>0.7119</td>\n",
              "      <td>0.2654</td>\n",
              "      <td>0.4601</td>\n",
              "      <td>0.11890</td>\n",
              "    </tr>\n",
              "    <tr>\n",
              "      <th>1</th>\n",
              "      <td>20.57</td>\n",
              "      <td>17.77</td>\n",
              "      <td>132.90</td>\n",
              "      <td>1326.0</td>\n",
              "      <td>0.08474</td>\n",
              "      <td>0.07864</td>\n",
              "      <td>0.0869</td>\n",
              "      <td>0.07017</td>\n",
              "      <td>0.1812</td>\n",
              "      <td>0.05667</td>\n",
              "      <td>0.5435</td>\n",
              "      <td>0.7339</td>\n",
              "      <td>3.398</td>\n",
              "      <td>74.08</td>\n",
              "      <td>0.005225</td>\n",
              "      <td>0.01308</td>\n",
              "      <td>0.01860</td>\n",
              "      <td>0.01340</td>\n",
              "      <td>0.01389</td>\n",
              "      <td>0.003532</td>\n",
              "      <td>24.99</td>\n",
              "      <td>23.41</td>\n",
              "      <td>158.80</td>\n",
              "      <td>1956.0</td>\n",
              "      <td>0.1238</td>\n",
              "      <td>0.1866</td>\n",
              "      <td>0.2416</td>\n",
              "      <td>0.1860</td>\n",
              "      <td>0.2750</td>\n",
              "      <td>0.08902</td>\n",
              "    </tr>\n",
              "    <tr>\n",
              "      <th>2</th>\n",
              "      <td>19.69</td>\n",
              "      <td>21.25</td>\n",
              "      <td>130.00</td>\n",
              "      <td>1203.0</td>\n",
              "      <td>0.10960</td>\n",
              "      <td>0.15990</td>\n",
              "      <td>0.1974</td>\n",
              "      <td>0.12790</td>\n",
              "      <td>0.2069</td>\n",
              "      <td>0.05999</td>\n",
              "      <td>0.7456</td>\n",
              "      <td>0.7869</td>\n",
              "      <td>4.585</td>\n",
              "      <td>94.03</td>\n",
              "      <td>0.006150</td>\n",
              "      <td>0.04006</td>\n",
              "      <td>0.03832</td>\n",
              "      <td>0.02058</td>\n",
              "      <td>0.02250</td>\n",
              "      <td>0.004571</td>\n",
              "      <td>23.57</td>\n",
              "      <td>25.53</td>\n",
              "      <td>152.50</td>\n",
              "      <td>1709.0</td>\n",
              "      <td>0.1444</td>\n",
              "      <td>0.4245</td>\n",
              "      <td>0.4504</td>\n",
              "      <td>0.2430</td>\n",
              "      <td>0.3613</td>\n",
              "      <td>0.08758</td>\n",
              "    </tr>\n",
              "    <tr>\n",
              "      <th>3</th>\n",
              "      <td>11.42</td>\n",
              "      <td>20.38</td>\n",
              "      <td>77.58</td>\n",
              "      <td>386.1</td>\n",
              "      <td>0.14250</td>\n",
              "      <td>0.28390</td>\n",
              "      <td>0.2414</td>\n",
              "      <td>0.10520</td>\n",
              "      <td>0.2597</td>\n",
              "      <td>0.09744</td>\n",
              "      <td>0.4956</td>\n",
              "      <td>1.1560</td>\n",
              "      <td>3.445</td>\n",
              "      <td>27.23</td>\n",
              "      <td>0.009110</td>\n",
              "      <td>0.07458</td>\n",
              "      <td>0.05661</td>\n",
              "      <td>0.01867</td>\n",
              "      <td>0.05963</td>\n",
              "      <td>0.009208</td>\n",
              "      <td>14.91</td>\n",
              "      <td>26.50</td>\n",
              "      <td>98.87</td>\n",
              "      <td>567.7</td>\n",
              "      <td>0.2098</td>\n",
              "      <td>0.8663</td>\n",
              "      <td>0.6869</td>\n",
              "      <td>0.2575</td>\n",
              "      <td>0.6638</td>\n",
              "      <td>0.17300</td>\n",
              "    </tr>\n",
              "    <tr>\n",
              "      <th>4</th>\n",
              "      <td>20.29</td>\n",
              "      <td>14.34</td>\n",
              "      <td>135.10</td>\n",
              "      <td>1297.0</td>\n",
              "      <td>0.10030</td>\n",
              "      <td>0.13280</td>\n",
              "      <td>0.1980</td>\n",
              "      <td>0.10430</td>\n",
              "      <td>0.1809</td>\n",
              "      <td>0.05883</td>\n",
              "      <td>0.7572</td>\n",
              "      <td>0.7813</td>\n",
              "      <td>5.438</td>\n",
              "      <td>94.44</td>\n",
              "      <td>0.011490</td>\n",
              "      <td>0.02461</td>\n",
              "      <td>0.05688</td>\n",
              "      <td>0.01885</td>\n",
              "      <td>0.01756</td>\n",
              "      <td>0.005115</td>\n",
              "      <td>22.54</td>\n",
              "      <td>16.67</td>\n",
              "      <td>152.20</td>\n",
              "      <td>1575.0</td>\n",
              "      <td>0.1374</td>\n",
              "      <td>0.2050</td>\n",
              "      <td>0.4000</td>\n",
              "      <td>0.1625</td>\n",
              "      <td>0.2364</td>\n",
              "      <td>0.07678</td>\n",
              "    </tr>\n",
              "  </tbody>\n",
              "</table>\n",
              "</div>"
            ],
            "text/plain": [
              "   mean radius  mean texture  ...  worst symmetry  worst fractal dimension\n",
              "0        17.99         10.38  ...          0.4601                  0.11890\n",
              "1        20.57         17.77  ...          0.2750                  0.08902\n",
              "2        19.69         21.25  ...          0.3613                  0.08758\n",
              "3        11.42         20.38  ...          0.6638                  0.17300\n",
              "4        20.29         14.34  ...          0.2364                  0.07678\n",
              "\n",
              "[5 rows x 30 columns]"
            ]
          },
          "metadata": {
            "tags": []
          },
          "execution_count": 5
        }
      ]
    },
    {
      "cell_type": "code",
      "metadata": {
        "id": "9X-RgW8AbDdP",
        "colab_type": "code",
        "colab": {}
      },
      "source": [
        "y = cancer.target"
      ],
      "execution_count": 0,
      "outputs": []
    },
    {
      "cell_type": "code",
      "metadata": {
        "id": "5-HcwwfkhVSv",
        "colab_type": "code",
        "colab": {}
      },
      "source": [
        "X_train, X_test, y_train, y_test = train_test_split(X,y, test_size = 0.2, random_state = 0, stratify =y)"
      ],
      "execution_count": 0,
      "outputs": []
    },
    {
      "cell_type": "code",
      "metadata": {
        "id": "LvzOfxu0jI5z",
        "colab_type": "code",
        "colab": {}
      },
      "source": [
        "# Scale down the data\n",
        "\n",
        "scaler = StandardScaler()\n",
        "X_train = scaler.fit_transform(X_train)\n",
        "X_test = scaler.transform(X_test)"
      ],
      "execution_count": 0,
      "outputs": []
    },
    {
      "cell_type": "code",
      "metadata": {
        "id": "WmRNmKJ7iMqN",
        "colab_type": "code",
        "outputId": "0ae54306-e29c-4a92-b2f3-5bed22c7607c",
        "colab": {
          "base_uri": "https://localhost:8080/",
          "height": 34
        }
      },
      "source": [
        "X_train.shape, y_train.shape, X_test.shape, y_test.shape"
      ],
      "execution_count": 0,
      "outputs": [
        {
          "output_type": "execute_result",
          "data": {
            "text/plain": [
              "((455, 30), (455,), (114, 30), (114,))"
            ]
          },
          "metadata": {
            "tags": []
          },
          "execution_count": 9
        }
      ]
    },
    {
      "cell_type": "code",
      "metadata": {
        "id": "MNAlIPpNh-9V",
        "colab_type": "code",
        "colab": {}
      },
      "source": [
        "# Reshape data in order to feed to CNN\n",
        "\n",
        "X_train = X_train.reshape(455,30,1)\n",
        "X_test = X_test.reshape(114,30,1)"
      ],
      "execution_count": 0,
      "outputs": []
    },
    {
      "cell_type": "markdown",
      "metadata": {
        "id": "CbCaztTqj_HN",
        "colab_type": "text"
      },
      "source": [
        "# CNN Model\n",
        "* Building Model\n",
        "  * ReLU Layer\n",
        "  * Pooling Layer\n",
        "  * Flattening\n",
        "  * Fully Connected\n",
        "  * Output Layer\n",
        "* Model Training\n",
        "* Model Compilation\n",
        "* Model Evaluation"
      ]
    },
    {
      "cell_type": "code",
      "metadata": {
        "id": "qZE4bT2yiuk-",
        "colab_type": "code",
        "colab": {}
      },
      "source": [
        "# Building a CNN Model\n",
        "\n",
        "model = Sequential()\n",
        "\n",
        "model.add(Conv1D(32,3, activation='relu', input_shape = (30,1)))\n",
        "model.add(BatchNormalization())\n",
        "\n",
        "model.add(Conv1D(64, 3, activation='relu'))\n",
        "model.add(BatchNormalization())\n",
        "\n",
        "model.add(Flatten())\n",
        "model.add(Dense(128, activation='relu', ))\n",
        "model.add(Dense(1, activation='sigmoid'))"
      ],
      "execution_count": 0,
      "outputs": []
    },
    {
      "cell_type": "code",
      "metadata": {
        "id": "ZquAmQRimOMk",
        "colab_type": "code",
        "outputId": "50ca1913-c5b0-4904-9bf0-7b034553b482",
        "colab": {
          "base_uri": "https://localhost:8080/",
          "height": 391
        }
      },
      "source": [
        "model.summary()"
      ],
      "execution_count": 0,
      "outputs": [
        {
          "output_type": "stream",
          "text": [
            "Model: \"sequential\"\n",
            "_________________________________________________________________\n",
            "Layer (type)                 Output Shape              Param #   \n",
            "=================================================================\n",
            "conv1d (Conv1D)              (None, 28, 32)            128       \n",
            "_________________________________________________________________\n",
            "batch_normalization (BatchNo (None, 28, 32)            128       \n",
            "_________________________________________________________________\n",
            "conv1d_1 (Conv1D)            (None, 26, 64)            6208      \n",
            "_________________________________________________________________\n",
            "batch_normalization_1 (Batch (None, 26, 64)            256       \n",
            "_________________________________________________________________\n",
            "flatten (Flatten)            (None, 1664)              0         \n",
            "_________________________________________________________________\n",
            "dense (Dense)                (None, 128)               213120    \n",
            "_________________________________________________________________\n",
            "dense_1 (Dense)              (None, 1)                 129       \n",
            "=================================================================\n",
            "Total params: 219,969\n",
            "Trainable params: 219,777\n",
            "Non-trainable params: 192\n",
            "_________________________________________________________________\n"
          ],
          "name": "stdout"
        }
      ]
    },
    {
      "cell_type": "code",
      "metadata": {
        "id": "ojpcEbftmQOM",
        "colab_type": "code",
        "colab": {}
      },
      "source": [
        "model.compile(optimizer=Adam(learning_rate=0.0005), loss='binary_crossentropy', metrics='accuracy')"
      ],
      "execution_count": 0,
      "outputs": []
    },
    {
      "cell_type": "code",
      "metadata": {
        "id": "RllUKBiVmwHb",
        "colab_type": "code",
        "outputId": "b311e2d8-cc2d-4250-d5d0-8713c68411ca",
        "colab": {
          "base_uri": "https://localhost:8080/",
          "height": 1000
        }
      },
      "source": [
        "history = model.fit(X_train, y_train, epochs = 50, validation_data=(X_test, y_test), verbose=1)"
      ],
      "execution_count": 0,
      "outputs": [
        {
          "output_type": "stream",
          "text": [
            "Epoch 1/50\n",
            "15/15 [==============================] - 0s 22ms/step - loss: 0.2658 - accuracy: 0.8989 - val_loss: 0.4811 - val_accuracy: 0.9561\n",
            "Epoch 2/50\n",
            "15/15 [==============================] - 0s 9ms/step - loss: 0.0455 - accuracy: 0.9824 - val_loss: 0.4267 - val_accuracy: 0.9386\n",
            "Epoch 3/50\n",
            "15/15 [==============================] - 0s 10ms/step - loss: 0.0343 - accuracy: 0.9912 - val_loss: 0.3826 - val_accuracy: 0.9386\n",
            "Epoch 4/50\n",
            "15/15 [==============================] - 0s 10ms/step - loss: 0.0266 - accuracy: 0.9890 - val_loss: 0.3527 - val_accuracy: 0.9298\n",
            "Epoch 5/50\n",
            "15/15 [==============================] - 0s 9ms/step - loss: 0.0228 - accuracy: 0.9978 - val_loss: 0.3249 - val_accuracy: 0.9211\n",
            "Epoch 6/50\n",
            "15/15 [==============================] - 0s 9ms/step - loss: 0.0152 - accuracy: 0.9934 - val_loss: 0.2815 - val_accuracy: 0.9474\n",
            "Epoch 7/50\n",
            "15/15 [==============================] - 0s 9ms/step - loss: 0.0222 - accuracy: 0.9868 - val_loss: 0.2813 - val_accuracy: 0.9123\n",
            "Epoch 8/50\n",
            "15/15 [==============================] - 0s 9ms/step - loss: 0.0086 - accuracy: 0.9978 - val_loss: 0.2381 - val_accuracy: 0.9298\n",
            "Epoch 9/50\n",
            "15/15 [==============================] - 0s 9ms/step - loss: 0.0075 - accuracy: 0.9978 - val_loss: 0.2118 - val_accuracy: 0.9474\n",
            "Epoch 10/50\n",
            "15/15 [==============================] - 0s 10ms/step - loss: 0.0103 - accuracy: 0.9978 - val_loss: 0.2052 - val_accuracy: 0.9474\n",
            "Epoch 11/50\n",
            "15/15 [==============================] - 0s 10ms/step - loss: 0.0046 - accuracy: 1.0000 - val_loss: 0.1870 - val_accuracy: 0.9474\n",
            "Epoch 12/50\n",
            "15/15 [==============================] - 0s 10ms/step - loss: 0.0031 - accuracy: 1.0000 - val_loss: 0.1684 - val_accuracy: 0.9474\n",
            "Epoch 13/50\n",
            "15/15 [==============================] - 0s 9ms/step - loss: 0.0040 - accuracy: 1.0000 - val_loss: 0.1483 - val_accuracy: 0.9561\n",
            "Epoch 14/50\n",
            "15/15 [==============================] - 0s 9ms/step - loss: 0.0036 - accuracy: 1.0000 - val_loss: 0.1392 - val_accuracy: 0.9561\n",
            "Epoch 15/50\n",
            "15/15 [==============================] - 0s 9ms/step - loss: 0.0028 - accuracy: 1.0000 - val_loss: 0.1348 - val_accuracy: 0.9561\n",
            "Epoch 16/50\n",
            "15/15 [==============================] - 0s 9ms/step - loss: 0.0026 - accuracy: 1.0000 - val_loss: 0.1190 - val_accuracy: 0.9649\n",
            "Epoch 17/50\n",
            "15/15 [==============================] - 0s 9ms/step - loss: 0.0021 - accuracy: 1.0000 - val_loss: 0.1170 - val_accuracy: 0.9649\n",
            "Epoch 18/50\n",
            "15/15 [==============================] - 0s 10ms/step - loss: 0.0015 - accuracy: 1.0000 - val_loss: 0.1141 - val_accuracy: 0.9649\n",
            "Epoch 19/50\n",
            "15/15 [==============================] - 0s 11ms/step - loss: 0.0348 - accuracy: 0.9978 - val_loss: 0.1211 - val_accuracy: 0.9561\n",
            "Epoch 20/50\n",
            "15/15 [==============================] - 0s 9ms/step - loss: 0.0294 - accuracy: 0.9890 - val_loss: 0.1289 - val_accuracy: 0.9561\n",
            "Epoch 21/50\n",
            "15/15 [==============================] - 0s 10ms/step - loss: 0.0130 - accuracy: 0.9978 - val_loss: 0.1131 - val_accuracy: 0.9649\n",
            "Epoch 22/50\n",
            "15/15 [==============================] - 0s 9ms/step - loss: 0.0019 - accuracy: 1.0000 - val_loss: 0.1146 - val_accuracy: 0.9561\n",
            "Epoch 23/50\n",
            "15/15 [==============================] - 0s 9ms/step - loss: 0.0013 - accuracy: 1.0000 - val_loss: 0.1087 - val_accuracy: 0.9649\n",
            "Epoch 24/50\n",
            "15/15 [==============================] - 0s 9ms/step - loss: 0.0023 - accuracy: 1.0000 - val_loss: 0.0999 - val_accuracy: 0.9649\n",
            "Epoch 25/50\n",
            "15/15 [==============================] - 0s 8ms/step - loss: 0.0015 - accuracy: 1.0000 - val_loss: 0.0985 - val_accuracy: 0.9737\n",
            "Epoch 26/50\n",
            "15/15 [==============================] - 0s 9ms/step - loss: 0.0019 - accuracy: 1.0000 - val_loss: 0.1037 - val_accuracy: 0.9649\n",
            "Epoch 27/50\n",
            "15/15 [==============================] - 0s 9ms/step - loss: 0.0016 - accuracy: 1.0000 - val_loss: 0.1121 - val_accuracy: 0.9649\n",
            "Epoch 28/50\n",
            "15/15 [==============================] - 0s 10ms/step - loss: 0.0013 - accuracy: 1.0000 - val_loss: 0.1094 - val_accuracy: 0.9649\n",
            "Epoch 29/50\n",
            "15/15 [==============================] - 0s 11ms/step - loss: 7.9887e-04 - accuracy: 1.0000 - val_loss: 0.1055 - val_accuracy: 0.9737\n",
            "Epoch 30/50\n",
            "15/15 [==============================] - 0s 9ms/step - loss: 8.5812e-04 - accuracy: 1.0000 - val_loss: 0.1048 - val_accuracy: 0.9737\n",
            "Epoch 31/50\n",
            "15/15 [==============================] - 0s 9ms/step - loss: 0.0011 - accuracy: 1.0000 - val_loss: 0.1078 - val_accuracy: 0.9737\n",
            "Epoch 32/50\n",
            "15/15 [==============================] - 0s 9ms/step - loss: 0.0024 - accuracy: 1.0000 - val_loss: 0.1181 - val_accuracy: 0.9649\n",
            "Epoch 33/50\n",
            "15/15 [==============================] - 0s 10ms/step - loss: 0.0023 - accuracy: 1.0000 - val_loss: 0.1020 - val_accuracy: 0.9561\n",
            "Epoch 34/50\n",
            "15/15 [==============================] - 0s 9ms/step - loss: 0.0012 - accuracy: 1.0000 - val_loss: 0.1065 - val_accuracy: 0.9737\n",
            "Epoch 35/50\n",
            "15/15 [==============================] - 0s 10ms/step - loss: 5.8724e-04 - accuracy: 1.0000 - val_loss: 0.1120 - val_accuracy: 0.9737\n",
            "Epoch 36/50\n",
            "15/15 [==============================] - 0s 9ms/step - loss: 8.6729e-04 - accuracy: 1.0000 - val_loss: 0.1128 - val_accuracy: 0.9649\n",
            "Epoch 37/50\n",
            "15/15 [==============================] - 0s 9ms/step - loss: 4.7622e-04 - accuracy: 1.0000 - val_loss: 0.1148 - val_accuracy: 0.9649\n",
            "Epoch 38/50\n",
            "15/15 [==============================] - 0s 9ms/step - loss: 4.0945e-04 - accuracy: 1.0000 - val_loss: 0.1137 - val_accuracy: 0.9649\n",
            "Epoch 39/50\n",
            "15/15 [==============================] - 0s 9ms/step - loss: 5.1817e-04 - accuracy: 1.0000 - val_loss: 0.1122 - val_accuracy: 0.9649\n",
            "Epoch 40/50\n",
            "15/15 [==============================] - 0s 8ms/step - loss: 0.0011 - accuracy: 1.0000 - val_loss: 0.1200 - val_accuracy: 0.9649\n",
            "Epoch 41/50\n",
            "15/15 [==============================] - 0s 9ms/step - loss: 4.0048e-04 - accuracy: 1.0000 - val_loss: 0.1375 - val_accuracy: 0.9649\n",
            "Epoch 42/50\n",
            "15/15 [==============================] - 0s 9ms/step - loss: 6.0418e-04 - accuracy: 1.0000 - val_loss: 0.1368 - val_accuracy: 0.9649\n",
            "Epoch 43/50\n",
            "15/15 [==============================] - 0s 9ms/step - loss: 0.0011 - accuracy: 1.0000 - val_loss: 0.1142 - val_accuracy: 0.9649\n",
            "Epoch 44/50\n",
            "15/15 [==============================] - 0s 9ms/step - loss: 4.9809e-04 - accuracy: 1.0000 - val_loss: 0.1104 - val_accuracy: 0.9649\n",
            "Epoch 45/50\n",
            "15/15 [==============================] - 0s 9ms/step - loss: 0.0012 - accuracy: 1.0000 - val_loss: 0.1292 - val_accuracy: 0.9649\n",
            "Epoch 46/50\n",
            "15/15 [==============================] - 0s 10ms/step - loss: 7.8822e-04 - accuracy: 1.0000 - val_loss: 0.1320 - val_accuracy: 0.9649\n",
            "Epoch 47/50\n",
            "15/15 [==============================] - 0s 10ms/step - loss: 6.0257e-04 - accuracy: 1.0000 - val_loss: 0.1244 - val_accuracy: 0.9649\n",
            "Epoch 48/50\n",
            "15/15 [==============================] - 0s 10ms/step - loss: 5.0014e-04 - accuracy: 1.0000 - val_loss: 0.1208 - val_accuracy: 0.9649\n",
            "Epoch 49/50\n",
            "15/15 [==============================] - 0s 9ms/step - loss: 3.8152e-04 - accuracy: 1.0000 - val_loss: 0.1230 - val_accuracy: 0.9649\n",
            "Epoch 50/50\n",
            "15/15 [==============================] - 0s 11ms/step - loss: 2.3854e-04 - accuracy: 1.0000 - val_loss: 0.1298 - val_accuracy: 0.9649\n"
          ],
          "name": "stdout"
        }
      ]
    },
    {
      "cell_type": "code",
      "metadata": {
        "id": "3lrXdrXGnH8R",
        "colab_type": "code",
        "outputId": "7ac8d575-c2e2-4ed8-b289-894bf3aee219",
        "colab": {
          "base_uri": "https://localhost:8080/",
          "height": 51
        }
      },
      "source": [
        "model.evaluate(X_test, y_test)"
      ],
      "execution_count": 0,
      "outputs": [
        {
          "output_type": "stream",
          "text": [
            "4/4 [==============================] - 0s 2ms/step - loss: 0.1298 - accuracy: 0.9649\n"
          ],
          "name": "stdout"
        },
        {
          "output_type": "execute_result",
          "data": {
            "text/plain": [
              "[0.12978729605674744, 0.9649122953414917]"
            ]
          },
          "metadata": {
            "tags": []
          },
          "execution_count": 15
        }
      ]
    },
    {
      "cell_type": "markdown",
      "metadata": {
        "id": "qQEAR8XFnIu3",
        "colab_type": "text"
      },
      "source": [
        "# Performance Metrics\n",
        "* Learning Curve\n",
        "* Confusion Matrix"
      ]
    },
    {
      "cell_type": "code",
      "metadata": {
        "id": "IRVXh1trnq6T",
        "colab_type": "code",
        "outputId": "62079e65-afb5-4954-8dcf-bf4e8286a7fd",
        "colab": {
          "base_uri": "https://localhost:8080/",
          "height": 279
        }
      },
      "source": [
        "# Plotting Learning Curve for Model Accuracy and Loss on Training Data and Validation Data\n",
        "\n",
        "epochs = range(1,51)\n",
        "plt.plot(epochs, history.history['accuracy'])\n",
        "plt.plot(epochs, history.history['loss'])\n",
        "plt.plot(epochs, history.history['val_accuracy'])\n",
        "plt.plot(epochs, history.history['val_loss'])\n",
        "\n",
        "plt.xlabel('Epochs')\n",
        "plt.ylabel('Performance Metrics')\n",
        "plt.legend(['Training Accuracy','Training Loss','Validation Accuracy','Validation Loss'])\n",
        "plt.show()"
      ],
      "execution_count": 0,
      "outputs": [
        {
          "output_type": "display_data",
          "data": {
            "image/png": "[encoded data removed]",
            "text/plain": [
              "<Figure size 432x288 with 1 Axes>"
            ]
          },
          "metadata": {
            "tags": [],
            "needs_background": "light"
          }
        }
      ]
    }
  ]
}